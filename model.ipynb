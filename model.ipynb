{
  "cells": [
    {
      "cell_type": "code",
      "execution_count": 1,
      "metadata": {
        "colab": {
          "base_uri": "https://localhost:8080/",
          "height": 0
        },
        "id": "hiAd-3f8D26U",
        "outputId": "50f6a7cd-98ac-4aa1-a9e8-4f07d06ff72e"
      },
      "outputs": [
        {
          "name": "stdout",
          "output_type": "stream",
          "text": [
            "Defaulting to user installation because normal site-packages is not writeable\n",
            "Requirement already satisfied: tensorflow in /Users/sina/Library/Python/3.9/lib/python/site-packages (2.16.2)\n",
            "Requirement already satisfied: opencv-python-headless in /Users/sina/Library/Python/3.9/lib/python/site-packages (4.10.0.84)\n",
            "Requirement already satisfied: absl-py>=1.0.0 in /Users/sina/Library/Python/3.9/lib/python/site-packages (from tensorflow) (2.1.0)\n",
            "Requirement already satisfied: astunparse>=1.6.0 in /Users/sina/Library/Python/3.9/lib/python/site-packages (from tensorflow) (1.6.3)\n",
            "Requirement already satisfied: flatbuffers>=23.5.26 in /Users/sina/Library/Python/3.9/lib/python/site-packages (from tensorflow) (24.3.25)\n",
            "Requirement already satisfied: gast!=0.5.0,!=0.5.1,!=0.5.2,>=0.2.1 in /Users/sina/Library/Python/3.9/lib/python/site-packages (from tensorflow) (0.6.0)\n",
            "Requirement already satisfied: google-pasta>=0.1.1 in /Users/sina/Library/Python/3.9/lib/python/site-packages (from tensorflow) (0.2.0)\n",
            "Requirement already satisfied: h5py>=3.10.0 in /Users/sina/Library/Python/3.9/lib/python/site-packages (from tensorflow) (3.11.0)\n",
            "Requirement already satisfied: libclang>=13.0.0 in /Users/sina/Library/Python/3.9/lib/python/site-packages (from tensorflow) (18.1.1)\n",
            "Requirement already satisfied: ml-dtypes~=0.3.1 in /Users/sina/Library/Python/3.9/lib/python/site-packages (from tensorflow) (0.3.2)\n",
            "Requirement already satisfied: opt-einsum>=2.3.2 in /Users/sina/Library/Python/3.9/lib/python/site-packages (from tensorflow) (3.3.0)\n",
            "Requirement already satisfied: packaging in /Users/sina/Library/Python/3.9/lib/python/site-packages (from tensorflow) (23.0)\n",
            "Requirement already satisfied: protobuf!=4.21.0,!=4.21.1,!=4.21.2,!=4.21.3,!=4.21.4,!=4.21.5,<5.0.0dev,>=3.20.3 in /Users/sina/Library/Python/3.9/lib/python/site-packages (from tensorflow) (4.25.3)\n",
            "Requirement already satisfied: requests<3,>=2.21.0 in /Users/sina/Library/Python/3.9/lib/python/site-packages (from tensorflow) (2.31.0)\n",
            "Requirement already satisfied: setuptools in /Library/Developer/CommandLineTools/Library/Frameworks/Python3.framework/Versions/3.9/lib/python3.9/site-packages (from tensorflow) (58.0.4)\n",
            "Requirement already satisfied: six>=1.12.0 in /Users/sina/Library/Python/3.9/lib/python/site-packages (from tensorflow) (1.16.0)\n",
            "Requirement already satisfied: termcolor>=1.1.0 in /Users/sina/Library/Python/3.9/lib/python/site-packages (from tensorflow) (2.4.0)\n",
            "Requirement already satisfied: typing-extensions>=3.6.6 in /Users/sina/Library/Python/3.9/lib/python/site-packages (from tensorflow) (4.9.0)\n",
            "Requirement already satisfied: wrapt>=1.11.0 in /Users/sina/Library/Python/3.9/lib/python/site-packages (from tensorflow) (1.16.0)\n",
            "Requirement already satisfied: grpcio<2.0,>=1.24.3 in /Users/sina/Library/Python/3.9/lib/python/site-packages (from tensorflow) (1.64.1)\n",
            "Requirement already satisfied: tensorboard<2.17,>=2.16 in /Users/sina/Library/Python/3.9/lib/python/site-packages (from tensorflow) (2.16.2)\n",
            "Requirement already satisfied: keras>=3.0.0 in /Users/sina/Library/Python/3.9/lib/python/site-packages (from tensorflow) (3.4.1)\n",
            "Requirement already satisfied: tensorflow-io-gcs-filesystem>=0.23.1 in /Users/sina/Library/Python/3.9/lib/python/site-packages (from tensorflow) (0.37.1)\n",
            "Requirement already satisfied: numpy<2.0.0,>=1.23.5 in /Users/sina/Library/Python/3.9/lib/python/site-packages (from tensorflow) (1.24.1)\n",
            "Requirement already satisfied: wheel<1.0,>=0.23.0 in /Library/Developer/CommandLineTools/Library/Frameworks/Python3.framework/Versions/3.9/lib/python3.9/site-packages (from astunparse>=1.6.0->tensorflow) (0.37.0)\n",
            "Requirement already satisfied: rich in /Users/sina/Library/Python/3.9/lib/python/site-packages (from keras>=3.0.0->tensorflow) (13.7.1)\n",
            "Requirement already satisfied: namex in /Users/sina/Library/Python/3.9/lib/python/site-packages (from keras>=3.0.0->tensorflow) (0.0.8)\n",
            "Requirement already satisfied: optree in /Users/sina/Library/Python/3.9/lib/python/site-packages (from keras>=3.0.0->tensorflow) (0.12.1)\n",
            "Requirement already satisfied: charset-normalizer<4,>=2 in /Users/sina/Library/Python/3.9/lib/python/site-packages (from requests<3,>=2.21.0->tensorflow) (2.1.1)\n",
            "Requirement already satisfied: idna<4,>=2.5 in /Users/sina/Library/Python/3.9/lib/python/site-packages (from requests<3,>=2.21.0->tensorflow) (3.4)\n",
            "Requirement already satisfied: urllib3<3,>=1.21.1 in /Users/sina/Library/Python/3.9/lib/python/site-packages (from requests<3,>=2.21.0->tensorflow) (1.26.12)\n",
            "Requirement already satisfied: certifi>=2017.4.17 in /Users/sina/Library/Python/3.9/lib/python/site-packages (from requests<3,>=2.21.0->tensorflow) (2022.9.24)\n",
            "Requirement already satisfied: markdown>=2.6.8 in /Users/sina/Library/Python/3.9/lib/python/site-packages (from tensorboard<2.17,>=2.16->tensorflow) (3.6)\n",
            "Requirement already satisfied: tensorboard-data-server<0.8.0,>=0.7.0 in /Users/sina/Library/Python/3.9/lib/python/site-packages (from tensorboard<2.17,>=2.16->tensorflow) (0.7.2)\n",
            "Requirement already satisfied: werkzeug>=1.0.1 in /Users/sina/Library/Python/3.9/lib/python/site-packages (from tensorboard<2.17,>=2.16->tensorflow) (2.2.3)\n",
            "Requirement already satisfied: importlib-metadata>=4.4 in /Users/sina/Library/Python/3.9/lib/python/site-packages (from markdown>=2.6.8->tensorboard<2.17,>=2.16->tensorflow) (6.0.0)\n",
            "Requirement already satisfied: MarkupSafe>=2.1.1 in /Users/sina/Library/Python/3.9/lib/python/site-packages (from werkzeug>=1.0.1->tensorboard<2.17,>=2.16->tensorflow) (2.1.2)\n",
            "Requirement already satisfied: markdown-it-py>=2.2.0 in /Users/sina/Library/Python/3.9/lib/python/site-packages (from rich->keras>=3.0.0->tensorflow) (3.0.0)\n",
            "Requirement already satisfied: pygments<3.0.0,>=2.13.0 in /Users/sina/Library/Python/3.9/lib/python/site-packages (from rich->keras>=3.0.0->tensorflow) (2.17.2)\n",
            "Requirement already satisfied: zipp>=0.5 in /Users/sina/Library/Python/3.9/lib/python/site-packages (from importlib-metadata>=4.4->markdown>=2.6.8->tensorboard<2.17,>=2.16->tensorflow) (3.15.0)\n",
            "Requirement already satisfied: mdurl~=0.1 in /Users/sina/Library/Python/3.9/lib/python/site-packages (from markdown-it-py>=2.2.0->rich->keras>=3.0.0->tensorflow) (0.1.2)\n"
          ]
        }
      ],
      "source": [
        "!pip install tensorflow opencv-python-headless"
      ]
    },
    {
      "cell_type": "code",
      "execution_count": 2,
      "metadata": {
        "colab": {
          "base_uri": "https://localhost:8080/",
          "height": 1521
        },
        "id": "umxBSFdKEHMs",
        "outputId": "a9ac610a-bf9a-4dce-9a1c-79d0cf462daf"
      },
      "outputs": [
        {
          "name": "stdout",
          "output_type": "stream",
          "text": [
            "Found 19341 images belonging to 5 classes.\n",
            "Found 4835 images belonging to 5 classes.\n"
          ]
        },
        {
          "name": "stderr",
          "output_type": "stream",
          "text": [
            "/Users/sina/Library/Python/3.9/lib/python/site-packages/keras/src/layers/convolutional/base_conv.py:107: UserWarning: Do not pass an `input_shape`/`input_dim` argument to a layer. When using Sequential models, prefer using an `Input(shape)` object as the first layer in the model instead.\n",
            "  super().__init__(activity_regularizer=activity_regularizer, **kwargs)\n"
          ]
        }
      ],
      "source": [
        "import tensorflow as tf\n",
        "from tensorflow.keras.preprocessing.image import ImageDataGenerator\n",
        "from tensorflow.keras.models import Sequential, load_model\n",
        "from tensorflow.keras.layers import Conv2D, MaxPooling2D, Flatten, Dense, Dropout\n",
        "import numpy as np\n",
        "import cv2\n",
        "import zipfile\n",
        "import os\n",
        "\n",
        "# Path to the ZIP file\n",
        "extracted_folder_path = './newarchive'\n",
        "\n",
        "# Paths to the extracted train and test directories\n",
        "train_dataset_path = os.path.join(extracted_folder_path, 'train')\n",
        "test_dataset_path = os.path.join(extracted_folder_path, 'test')\n",
        "\n",
        "image_size = (48, 48)\n",
        "batch_size = 32\n",
        "\n",
        "# Data augmentation and rescaling\n",
        "datagen = ImageDataGenerator(\n",
        "    rescale=1./255,\n",
        "    validation_split=0.2\n",
        ")\n",
        "\n",
        "# Load training data\n",
        "train_generator = datagen.flow_from_directory(\n",
        "    train_dataset_path,\n",
        "    target_size=image_size,\n",
        "    batch_size=batch_size,\n",
        "    class_mode='categorical',\n",
        "    subset='training'\n",
        ")\n",
        "\n",
        "# Load validation data\n",
        "validation_generator = datagen.flow_from_directory(\n",
        "    train_dataset_path,\n",
        "    target_size=image_size,\n",
        "    batch_size=batch_size,\n",
        "    class_mode='categorical',\n",
        "    subset='validation'\n",
        ")\n",
        "\n",
        "# Define the model\n",
        "model = Sequential([\n",
        "    Conv2D(32, (3, 3), activation='relu', input_shape=(image_size[0], image_size[1], 3)),\n",
        "    MaxPooling2D((2, 2)),\n",
        "    Conv2D(64, (3, 3), activation='relu'),\n",
        "    MaxPooling2D((2, 2)),\n",
        "    Conv2D(128, (3, 3), activation='relu'),\n",
        "    MaxPooling2D((2, 2)),\n",
        "    Flatten(),\n",
        "    Dense(128, activation='relu'),\n",
        "    Dropout(0.5),\n",
        "    Dense(len(train_generator.class_indices), activation='softmax')\n",
        "])"
      ]
    },
    {
      "cell_type": "code",
      "execution_count": 3,
      "metadata": {},
      "outputs": [],
      "source": [
        "\n",
        "# # Compile the model\n",
        "# model.compile(optimizer='adam', loss='categorical_crossentropy', metrics=['accuracy'])\n",
        "\n",
        "# # Train the model\n",
        "# model.fit(train_generator, validation_data=validation_generator, epochs=15)\n",
        "\n",
        "# # Save the model\n",
        "# model.save('emotion_model.h5')"
      ]
    },
    {
      "cell_type": "code",
      "execution_count": 4,
      "metadata": {},
      "outputs": [
        {
          "name": "stderr",
          "output_type": "stream",
          "text": [
            "WARNING:absl:Compiled the loaded model, but the compiled metrics have yet to be built. `model.compile_metrics` will be empty until you train or evaluate the model.\n"
          ]
        },
        {
          "name": "stdout",
          "output_type": "stream",
          "text": [
            "Found 6043 images belonging to 5 classes.\n",
            "\u001b[1m 22/189\u001b[0m \u001b[32m━━\u001b[0m\u001b[37m━━━━━━━━━━━━━━━━━━\u001b[0m \u001b[1m1s\u001b[0m 8ms/step - accuracy: 0.5295 - loss: 1.2520"
          ]
        },
        {
          "name": "stderr",
          "output_type": "stream",
          "text": [
            "/Users/sina/Library/Python/3.9/lib/python/site-packages/keras/src/trainers/data_adapters/py_dataset_adapter.py:121: UserWarning: Your `PyDataset` class should call `super().__init__(**kwargs)` in its constructor. `**kwargs` can include `workers`, `use_multiprocessing`, `max_queue_size`. Do not pass these arguments to `fit()`, as they will be ignored.\n",
            "  self._warn_if_super_not_called()\n"
          ]
        },
        {
          "name": "stdout",
          "output_type": "stream",
          "text": [
            "\u001b[1m189/189\u001b[0m \u001b[32m━━━━━━━━━━━━━━━━━━━━\u001b[0m\u001b[37m\u001b[0m \u001b[1m2s\u001b[0m 8ms/step - accuracy: 0.6331 - loss: 1.1096\n",
            "Test Loss: 1.1315522193908691\n",
            "Test Accuracy: 0.6364388465881348\n",
            "\u001b[1m189/189\u001b[0m \u001b[32m━━━━━━━━━━━━━━━━━━━━\u001b[0m\u001b[37m\u001b[0m \u001b[1m2s\u001b[0m 8ms/step\n",
            "                         Filename Predicted   True\n",
            "0  angry/PrivateTest_10131363.jpg     happy  angry\n",
            "1  angry/PrivateTest_10304478.jpg     angry  angry\n",
            "2   angry/PrivateTest_1054527.jpg       sad  angry\n",
            "3  angry/PrivateTest_10590091.jpg     happy  angry\n",
            "4   angry/PrivateTest_1109992.jpg     angry  angry\n"
          ]
        },
        {
          "data": {
            "image/png": "[encoded data removed]",
            "text/plain": [
              "<Figure size 1000x700 with 2 Axes>"
            ]
          },
          "metadata": {},
          "output_type": "display_data"
        },
        {
          "name": "stdout",
          "output_type": "stream",
          "text": [
            "              precision    recall  f1-score   support\n",
            "\n",
            "       angry       0.52      0.52      0.52       958\n",
            "       happy       0.76      0.80      0.78      1774\n",
            "     neutral       0.53      0.63      0.57      1234\n",
            "         sad       0.54      0.41      0.46      1246\n",
            "    surprise       0.80      0.77      0.79       831\n",
            "\n",
            "    accuracy                           0.64      6043\n",
            "   macro avg       0.63      0.63      0.63      6043\n",
            "weighted avg       0.63      0.64      0.63      6043\n",
            "\n"
          ]
        }
      ],
      "source": [
        "from tensorflow.keras.models import Sequential, load_model\n",
        "# Load the trained model\n",
        "model = load_model('emotion_model.h5')\n",
        "\n",
        "# Data generator for test data\n",
        "test_datagen = ImageDataGenerator(rescale=1./255)\n",
        "\n",
        "# Load test data\n",
        "test_generator = test_datagen.flow_from_directory(\n",
        "    test_dataset_path,\n",
        "    target_size=image_size,\n",
        "    batch_size=batch_size,\n",
        "    class_mode='categorical',\n",
        "    shuffle=False\n",
        ")\n",
        "\n",
        "# Evaluate the model\n",
        "test_loss, test_accuracy = model.evaluate(test_generator)\n",
        "print(f'Test Loss: {test_loss}')\n",
        "print(f'Test Accuracy: {test_accuracy}')\n",
        "\n",
        "# Function to preprocess image for prediction\n",
        "def preprocess_image(image):\n",
        "    image = cv2.resize(image, (48, 48))\n",
        "    image = cv2.cvtColor(image, cv2.COLOR_BGR2RGB)\n",
        "    image = image.astype('float32') / 255\n",
        "    image = np.expand_dims(image, axis=0)\n",
        "    return image\n",
        "\n",
        "# Predict emotion from image\n",
        "def predict_emotion(image):\n",
        "    preprocessed_image = preprocess_image(image)\n",
        "    prediction = model.predict(preprocessed_image)\n",
        "    return class_labels[np.argmax(prediction)]\n",
        "\n",
        "# Load class labels\n",
        "class_labels = list(test_generator.class_indices.keys())\n",
        "\n",
        "# Predict emotions for all images in the test set\n",
        "def predict_test_set(test_generator):\n",
        "    predictions = model.predict(test_generator)\n",
        "    predicted_classes = np.argmax(predictions, axis=1)\n",
        "    true_classes = test_generator.classes\n",
        "    class_labels = list(test_generator.class_indices.keys())\n",
        "    return predicted_classes, true_classes, class_labels\n",
        "\n",
        "# Get predictions\n",
        "predicted_classes, true_classes, class_labels = predict_test_set(test_generator)\n",
        "\n",
        "# Print some results\n",
        "import pandas as pd\n",
        "results_df = pd.DataFrame({\n",
        "    'Filename': test_generator.filenames,\n",
        "    'Predicted': [class_labels[i] for i in predicted_classes],\n",
        "    'True': [class_labels[i] for i in true_classes]\n",
        "})\n",
        "\n",
        "# Display some prediction results\n",
        "print(results_df.head())\n",
        "\n",
        "# Calculate and print confusion matrix\n",
        "from sklearn.metrics import confusion_matrix, classification_report\n",
        "import seaborn as sns\n",
        "import matplotlib.pyplot as plt\n",
        "\n",
        "conf_matrix = confusion_matrix(true_classes, predicted_classes)\n",
        "plt.figure(figsize=(10, 7))\n",
        "sns.heatmap(conf_matrix, annot=True, fmt=\"d\", xticklabels=class_labels, yticklabels=class_labels)\n",
        "plt.ylabel('Actual')\n",
        "plt.xlabel('Predicted')\n",
        "plt.show()\n",
        "\n",
        "# Print classification report\n",
        "print(classification_report(true_classes, predicted_classes, target_names=class_labels))"
      ]
    },
    {
      "cell_type": "code",
      "execution_count": 5,
      "metadata": {},
      "outputs": [
        {
          "name": "stdout",
          "output_type": "stream",
          "text": [
            "\u001b[1m1/1\u001b[0m \u001b[32m━━━━━━━━━━━━━━━━━━━━\u001b[0m\u001b[37m\u001b[0m \u001b[1m0s\u001b[0m 35ms/step\n",
            "\u001b[1m1/1\u001b[0m \u001b[32m━━━━━━━━━━━━━━━━━━━━\u001b[0m\u001b[37m\u001b[0m \u001b[1m0s\u001b[0m 14ms/step\n",
            "\u001b[1m1/1\u001b[0m \u001b[32m━━━━━━━━━━━━━━━━━━━━\u001b[0m\u001b[37m\u001b[0m \u001b[1m0s\u001b[0m 16ms/step\n",
            "\u001b[1m1/1\u001b[0m \u001b[32m━━━━━━━━━━━━━━━━━━━━\u001b[0m\u001b[37m\u001b[0m \u001b[1m0s\u001b[0m 16ms/step\n"
          ]
        }
      ],
      "source": [
        "# Load emoji images\n",
        "emoji_images = {}\n",
        "for label in class_labels:\n",
        "    emoji_images[label] = cv2.imread(os.path.join(\"./emoji\", f'{label}.png'), cv2.IMREAD_UNCHANGED)\n",
        "\n",
        "def overlay_emoji(image, emoji, position=(0, 0), size=(48, 48)):\n",
        "    image = cv2.resize(image, (200, 200))\n",
        "    (x, y) = position\n",
        "    emoji = cv2.resize(emoji, size, interpolation=cv2.INTER_AREA)\n",
        "    (h, w) = emoji.shape[0], emoji.shape[1]\n",
        "    alpha_s = emoji[:, :, 3] / 255.0\n",
        "    alpha_l = 1.0 - alpha_s\n",
        "\n",
        "    # Ensure the emoji is within the image boundaries\n",
        "    if x < 0:\n",
        "        x = 0\n",
        "    if y < 0:\n",
        "        y = 0\n",
        "    if x + w > image.shape[1]:\n",
        "        w = image.shape[1] - x\n",
        "        emoji = emoji[:, :w]\n",
        "        alpha_s = alpha_s[:, :w]\n",
        "        alpha_l = alpha_l[:, :w]\n",
        "    if y + h > image.shape[0]:\n",
        "        h = image.shape[0] - y\n",
        "        emoji = emoji[:h, :]\n",
        "        alpha_s = alpha_s[:h, :]\n",
        "        alpha_l = alpha_l[:h, :]\n",
        "\n",
        "    for c in range(0, 3):\n",
        "        image[y:y+h, x:x+w, c] = (alpha_s * emoji[:, :, c] + alpha_l * image[y:y+h, x:x+w, c])\n",
        "    return image\n",
        "\n",
        "\n",
        "# Predict emotion from image and overlay emoji\n",
        "def predict_and_overlay(image_path, model, class_labels, emoji_images):\n",
        "    image = cv2.imread(image_path)\n",
        "    preprocessed_image = preprocess_image(image)\n",
        "    prediction = model.predict(preprocessed_image)\n",
        "    predicted_label = class_labels[np.argmax(prediction)]\n",
        "    emoji = emoji_images[predicted_label]\n",
        "    face_coords = detect_face(image)\n",
        "    if face_coords is not None:\n",
        "        draw_face_square(image, face_coords)\n",
        "        (x, y, w, h) = face_coords\n",
        "        emoji_position = (x, y - w)  # Adjust position to be above the face\n",
        "        image = overlay_emoji(image, emoji, position=emoji_position)\n",
        "        image = put_text_on_image(image, predicted_label, position=(image.shape[1] - 10, 10))\n",
        "    return image, predicted_label\n",
        "\n",
        "def put_text_on_image(image, text, position, font=cv2.FONT_HERSHEY_SIMPLEX, font_scale=0.6, color=(255, 255, 255), thickness=2):\n",
        "    text_size = cv2.getTextSize(text, font, font_scale, thickness)[0]\n",
        "    text_x = position[0] - text_size[0]\n",
        "    text_y = position[1] + text_size[1]\n",
        "    cv2.putText(image, text, (text_x, text_y), font, font_scale, color, thickness)\n",
        "    return image\n",
        "\n",
        "\n",
        "def draw_face_square(image, face_coords, color=(0, 255, 0), thickness=2):\n",
        "    (x, y, w, h) = face_coords\n",
        "    cv2.rectangle(image, (x, y), (x + w, y + h), color, thickness)\n",
        "    return image\n",
        "\n",
        "def detect_face(image):\n",
        "    face_cascade = cv2.CascadeClassifier(cv2.data.haarcascades + 'haarcascade_frontalface_default.xml')\n",
        "    gray = cv2.cvtColor(image, cv2.COLOR_BGR2GRAY)\n",
        "    faces = face_cascade.detectMultiScale(gray, scaleFactor=1.1, minNeighbors=5, minSize=(30, 30))\n",
        "    if len(faces) > 0:\n",
        "        return faces[0]  # Return the first detected face\n",
        "    return None\n",
        "\n",
        "test_images=['./newarchive/test/neutral/PrivateTest_26814656.jpg',\n",
        "             './newarchive/test/happy/PrivateTest_218533.jpg',\n",
        "             './newarchive/test/neutral/PublicTest_99688200.jpg',\n",
        "             './newarchive/test/angry/PrivateTest_4690573.jpg',\n",
        "            ]\n",
        "for image_path in test_images:\n",
        "    emoji_image, predicted_label = predict_and_overlay(image_path, model, class_labels, emoji_images)\n",
        "    cv2.imshow(f'Predicted: {predicted_label}', emoji_image)\n",
        "    cv2.waitKey(0)  # Press any key to move to the next image\n",
        "    cv2.destroyAllWindows()"
      ]
    }
  ],
  "metadata": {
    "colab": {
      "provenance": []
    },
    "kernelspec": {
      "display_name": "Python 3",
      "name": "python3"
    },
    "language_info": {
      "codemirror_mode": {
        "name": "ipython",
        "version": 3
      },
      "file_extension": ".py",
      "mimetype": "text/x-python",
      "name": "python",
      "nbconvert_exporter": "python",
      "pygments_lexer": "ipython3",
      "version": "3.9.19"
    }
  },
  "nbformat": 4,
  "nbformat_minor": 0
}
